{
 "metadata": {
  "language_info": {
   "codemirror_mode": {
    "name": "ipython",
    "version": 3
   },
   "file_extension": ".py",
   "mimetype": "text/x-python",
   "name": "python",
   "nbconvert_exporter": "python",
   "pygments_lexer": "ipython3",
   "version": "3.7.2-final"
  },
  "orig_nbformat": 2,
  "kernelspec": {
   "name": "python3",
   "display_name": "Python 3"
  }
 },
 "nbformat": 4,
 "nbformat_minor": 2,
 "cells": [
  {
   "source": [
    "# Dash 数据分析 —— by 麻瓜编程"
   ],
   "cell_type": "markdown",
   "metadata": {}
  },
  {
   "source": [
    "## Part-01: 用 Dash 实现简单 HTML 网页"
   ],
   "cell_type": "markdown",
   "metadata": {}
  },
  {
   "cell_type": "code",
   "execution_count": 6,
   "metadata": {},
   "outputs": [
    {
     "output_type": "stream",
     "name": "stdout",
     "text": [
      "Dash app running on http://127.0.0.1:8050/\n"
     ]
    }
   ],
   "source": [
    "import dash\n",
    "from jupyter_dash import JupyterDash\n",
    "import dash_html_components as html\n",
    "\n",
    "app = JupyterDash(\"Dash App\")\n",
    "\n",
    "block = html.Div([\n",
    "        html.H1(\"使用 Dash 全撸\",\n",
    "                style={\"fontSize\": \"6rem\", \"textAlign\": \"center\"}),\n",
    "        html.Img(src='/assets/各城市数据分析岗位需求.png',\n",
    "                 style={\"display\": \"inlineBlock\"})],\n",
    "        style={\"textAlign\": \"center\"})\n",
    "\n",
    "app.layout = block\n",
    "\n",
    "app.run_server(debug=True)"
   ]
  },
  {
   "source": [
    "## Part-02: 用 Dash 实现动态页面"
   ],
   "cell_type": "markdown",
   "metadata": {}
  },
  {
   "cell_type": "code",
   "execution_count": 9,
   "metadata": {},
   "outputs": [
    {
     "output_type": "stream",
     "name": "stdout",
     "text": [
      "Dash app running on http://127.0.0.1:8050/\n"
     ]
    }
   ],
   "source": [
    "from jupyter_dash import JupyterDash\n",
    "import dash_html_components as html\n",
    "\n",
    "app = JupyterDash(__name__)\n",
    "\n",
    "fruits = [\n",
    "    \"🍎\" + \"APPLE\",\n",
    "    \"🍌\" + \"BANANA\",\n",
    "    \"🥭\" + \"MANGO\",\n",
    "    \"🍇\" + \"GRAPES\",\n",
    "    \"🍐\" + \"PEAR\"\n",
    "]\n",
    "\n",
    "block_lists = [html.Li(fruit) for fruit in fruits]\n",
    "app.layout = html.Ul(block_lists)\n",
    "\n",
    "app.run_server(debug=True)"
   ]
  },
  {
   "source": [
    "## Part-03: 用 Dash 实现交互页面"
   ],
   "cell_type": "markdown",
   "metadata": {}
  },
  {
   "source": [
    "从结构上理解装饰器\n",
    "\n",
    "```python\n",
    "@pp.callback(...)\n",
    "def rule(in):\n",
    "    return out\n",
    "\n",
    "# 等效 👇\n",
    "\n",
    "def rule(in):\n",
    "    return out\n",
    "\n",
    "processer = app.callback(...)\n",
    "processer(rule)\n",
    "```"
   ],
   "cell_type": "markdown",
   "metadata": {}
  },
  {
   "cell_type": "code",
   "execution_count": 11,
   "metadata": {},
   "outputs": [
    {
     "output_type": "stream",
     "name": "stdout",
     "text": [
      "Dash app running on http://127.0.0.1:8050/\n"
     ]
    }
   ],
   "source": [
    "from jupyter_dash import JupyterDash\n",
    "import dash_html_components as html\n",
    "import dash_core_components as dcc\n",
    "from dash.dependencies import Input, Output\n",
    "\n",
    "app = JupyterDash(__name__)\n",
    "\n",
    "textarea = dcc.Textarea(value=\"\", id=\"text\", style={\"width\": \"100%\", \"height\": \"10rem\"})\n",
    "markdown = dcc.Markdown(\"\", id=\"marked\")\n",
    "\n",
    "app.layout = html.Div([\n",
    "    markdown,\n",
    "    html.H3(\"输入文字\"),\n",
    "    html.Hr(),\n",
    "    textarea\n",
    "])\n",
    "\n",
    "@app.callback(\n",
    "    Output(\"marked\", \"children\"),\n",
    "    [Input(\"text\", \"value\")]\n",
    ")\n",
    "def marked_text(marked):\n",
    "    return marked\n",
    "\n",
    "app.run_server(debug=True)"
   ]
  },
  {
   "source": [
    "## Part-04: 用 Dash Plotly 实现数据图表可视化"
   ],
   "cell_type": "markdown",
   "metadata": {}
  },
  {
   "cell_type": "code",
   "execution_count": 2,
   "metadata": {},
   "outputs": [
    {
     "output_type": "stream",
     "name": "stdout",
     "text": [
      "Dash app running on http://127.0.0.1:8050/\n"
     ]
    }
   ],
   "source": [
    "import pandas as pd\n",
    "from jupyter_dash import JupyterDash\n",
    "import dash_html_components as html\n",
    "import dash_core_components as dcc\n",
    "import plotly.express as px\n",
    "\n",
    "app = JupyterDash(__name__)\n",
    "\n",
    "df = pd.read_csv('./data/all_seasons.csv')\n",
    "height = df['player_height']\n",
    "points = df['pts']\n",
    "fig = px.scatter(x=height, y=points)\n",
    "\n",
    "graph = dcc.Graph(figure=fig)\n",
    "\n",
    "app.layout = html.Div(graph)\n",
    "\n",
    "app.run_server(debug=True)"
   ]
  },
  {
   "source": [
    "## Part-05: 用 Dash 实现动态图表"
   ],
   "cell_type": "markdown",
   "metadata": {}
  },
  {
   "cell_type": "code",
   "execution_count": 5,
   "metadata": {},
   "outputs": [
    {
     "output_type": "stream",
     "name": "stdout",
     "text": [
      "Dash app running on http://127.0.0.1:8050/\n"
     ]
    }
   ],
   "source": [
    "import pandas as pd\n",
    "from jupyter_dash import JupyterDash\n",
    "import dash_html_components as html\n",
    "import dash_core_components as dcc\n",
    "import plotly.express as px\n",
    "from dash.dependencies import Input, Output\n",
    "\n",
    "app = JupyterDash(__name__)\n",
    "\n",
    "df = pd.read_csv('./data/all_seasons.csv')\n",
    "height = df['player_height']\n",
    "points = df['pts']\n",
    "fig = px.scatter(x=height, y=points)\n",
    "\n",
    "graph = dcc.Graph(figure=fig, id='fig')\n",
    "drop_down = dcc.Dropdown(\n",
    "    id='dropdown',\n",
    "    options=[\n",
    "        {'label': '球员身高', 'value': 'player_height'},\n",
    "        {'label': '球员体重', 'value': 'player_weight'},\n",
    "        {'label': '球员年龄', 'value': 'age'},\n",
    "    ],\n",
    "    value='player_height'\n",
    ")\n",
    "\n",
    "@app.callback(\n",
    "    Output(\"fig\", \"figure\"),\n",
    "    [Input(\"dropdown\", \"value\")])\n",
    "def update_graph(select):\n",
    "    return px.scatter(x=df[select], y=points)\n",
    "\n",
    "app.layout = html.Div([drop_down, graph])\n",
    "\n",
    "app.run_server(debug=True)"
   ]
  },
  {
   "source": [
    "## Part-06: 用 Dash 实现货币汇率计算"
   ],
   "cell_type": "markdown",
   "metadata": {}
  },
  {
   "cell_type": "code",
   "execution_count": 8,
   "metadata": {},
   "outputs": [
    {
     "output_type": "stream",
     "name": "stdout",
     "text": [
      "Dash app running on http://127.0.0.1:8050/\n"
     ]
    }
   ],
   "source": [
    "from jupyter_dash import JupyterDash\n",
    "import dash_html_components as html\n",
    "import dash_core_components as dcc\n",
    "from dash.dependencies import Input, Output\n",
    "\n",
    "app = JupyterDash(__name__)\n",
    "\n",
    "def item(name):\n",
    "    return html.Div([name, html.Span('--', id=name)])\n",
    "\n",
    "app.layout = html.Div([\n",
    "    dcc.Input(value=0, id='ipt', type='number', min=0, max=1000000000000),\n",
    "    item('JPY'),\n",
    "    item('USD'),\n",
    "    item('GBP'),\n",
    "])\n",
    "\n",
    "@app.callback(\n",
    "    [Output('JPY', 'children'),\n",
    "     Output('USD', 'children'),\n",
    "     Output('GBP', 'children')],\n",
    "    [Input('ipt', 'value')])\n",
    "def calc(rmb):\n",
    "    rmb = 0 if not rmb else rmb\n",
    "    return (\n",
    "        f'{rmb*15.0:.2f} 日元',\n",
    "        f'{rmb*0.14:.2f}美元',\n",
    "        f'{rmb*0.11:.2f} 欧元')\n",
    "\n",
    "app.run_server(debug=True)"
   ]
  },
  {
   "source": [
    "## Part-07: 用 Boostrap 实现 美化 Dash 汇率计算"
   ],
   "cell_type": "markdown",
   "metadata": {}
  },
  {
   "cell_type": "code",
   "execution_count": 47,
   "metadata": {},
   "outputs": [
    {
     "output_type": "stream",
     "name": "stdout",
     "text": [
      "Dash app running on http://127.0.0.1:8050/\n"
     ]
    }
   ],
   "source": [
    "from jupyter_dash import JupyterDash\n",
    "import dash_html_components as html\n",
    "import dash_core_components as dcc\n",
    "import dash_bootstrap_components as dbc\n",
    "from dash.dependencies import Input, Output\n",
    "\n",
    "app = JupyterDash(__name__)\n",
    "\n",
    "def item(name, img):\n",
    "    return dbc.ListGroupItem([\n",
    "        html.Span([name, ' ', img], style={'fontSize': '3rem'}),\n",
    "        html.Span('--', id=name, className='float-right', style={'fontSize': '3rem'})])\n",
    "\n",
    "app.layout = dbc.Container([\n",
    "    dbc.ListGroup([\n",
    "        dbc.ListGroupItem([\n",
    "            html.H1('汇率计算器-简单版本'),\n",
    "            html.P('输入计算'),\n",
    "            dbc.Input(value=0, id='ipt', type='number', min=0, max=1000000000000),\n",
    "        ], className='active'),\n",
    "        item('JPY', \"🇯🇵\"),\n",
    "        item('USD', \"🇺🇸\"),\n",
    "        item('GBP', \"🇬🇧\"),\n",
    "    ], className='shadow'),\n",
    "], style={'paddingTop': '30px'})\n",
    "\n",
    "@app.callback(\n",
    "    [Output('JPY', 'children'),\n",
    "     Output('USD', 'children'),\n",
    "     Output('GBP', 'children')],\n",
    "    [Input('ipt', 'value')])\n",
    "def calc(rmb):\n",
    "    rmb = 0 if not rmb else rmb\n",
    "    return (\n",
    "        f'{rmb*15.0:.2f} 日元',\n",
    "        f'{rmb*0.14:.2f} 美元',\n",
    "        f'{rmb*0.11:.2f} 欧元')\n",
    "\n",
    "app.run_server(debug=True)"
   ]
  },
  {
   "source": [
    "## Part-08: 用 DataTable 实现神奇宝贝图表"
   ],
   "cell_type": "markdown",
   "metadata": {}
  },
  {
   "cell_type": "code",
   "execution_count": 46,
   "metadata": {},
   "outputs": [
    {
     "output_type": "stream",
     "name": "stdout",
     "text": [
      "Dash app running on http://127.0.0.1:8050/\n"
     ]
    }
   ],
   "source": [
    "import pandas as pd\n",
    "from jupyter_dash import JupyterDash\n",
    "import dash_html_components as html\n",
    "import dash_core_components as dcc\n",
    "import dash_bootstrap_components as dbc\n",
    "from dash_table import DataTable\n",
    "\n",
    "df = pd.read_csv('./data/s_pokemon.csv', index_col=0)\n",
    "\n",
    "app = JupyterDash(__name__)\n",
    "\n",
    "app.layout = html.Div([\n",
    "    dbc.Container([\n",
    "        DataTable(\n",
    "            id='table',\n",
    "            columns=[{'name': col, 'id': col} for col in df.columns],\n",
    "            data=df.to_dict('rows'),\n",
    "            page_size=10,\n",
    "            filter_action='native',\n",
    "            row_selectable='single')\n",
    "    ], className='shadow mt-3')\n",
    "])\n",
    "\n",
    "app.run_server(debug=True)"
   ]
  },
  {
   "source": [
    "## Part-09: 用 Dash Plotly 实现神奇宝贝雷达图"
   ],
   "cell_type": "markdown",
   "metadata": {}
  },
  {
   "cell_type": "code",
   "execution_count": 126,
   "metadata": {},
   "outputs": [
    {
     "output_type": "stream",
     "name": "stdout",
     "text": [
      "Dash app running on http://127.0.0.1:8050/\n"
     ]
    }
   ],
   "source": [
    "import pandas as pd\n",
    "from jupyter_dash import JupyterDash\n",
    "import dash_html_components as html\n",
    "import dash_core_components as dcc\n",
    "import dash_bootstrap_components as dbc\n",
    "from dash_table import DataTable\n",
    "from dash.dependencies import Input, Output\n",
    "import plotly.express as px\n",
    "\n",
    "df = pd.read_csv('./data/s_pokemon.csv', index_col=0)\n",
    "\n",
    "app = JupyterDash(__name__)\n",
    "\n",
    "dt = DataTable(\n",
    "    id='table',\n",
    "    columns=[{'name': col, 'id': col} for col in df.columns],\n",
    "    data=df.to_dict('rows'),\n",
    "    page_size=10,\n",
    "    filter_action='native',\n",
    "    row_selectable='single'\n",
    ")\n",
    "\n",
    "app.layout = html.Div([\n",
    "    dbc.Jumbotron('神奇宝贝 🐣', id='target', style={'backgroundColor': 'white', 'maxHeight': '500px'}, className='border-bottom shadow'),\n",
    "    dbc.Container([dt], className='shadow mt-3')\n",
    "])\n",
    "\n",
    "def jumbo_item(name, tags, abls):\n",
    "    if 'Mega' in name:\n",
    "        if len(name.split(' ')) == 3:\n",
    "            name = name.split(' ')[-2] + '-Mega-' + name.split(' ')[-1]\n",
    "        else: \n",
    "            name = name.split(' ')[1] + '-Mega'\n",
    "    radio_area = {\n",
    "        'r': abls,\n",
    "        'theta': ['HP', 'Attack', 'Defense', 'Sp.Attack', 'Sp.Defense', 'Speed']\n",
    "    }\n",
    "    fig = px.line_polar(radio_area,\n",
    "                        r='r',\n",
    "                        theta='theta',\n",
    "                        line_close=True,\n",
    "                        range_r=[0, 255],\n",
    "                        width=300,\n",
    "                        height=300)\n",
    "    fig.update_traces(fill='toself')\n",
    "    return dbc.Row([\n",
    "        dbc.Col([\n",
    "            html.Img(\n",
    "                height='200px',\n",
    "                src=f'https://img.pokemondb.net/artwork/{name.lower()}.jpg'),\n",
    "            html.H1(name),\n",
    "            html.Span([dbc.Badge(tag, color='primary', className='mr-1') for tag in tags])\n",
    "        ], width={\"size\": 3, \"offset\": 2},),\n",
    "        dbc.Col([\n",
    "            dcc.Graph(figure=fig)\n",
    "        ], width={\"size\": 3, \"offset\": 3},)\n",
    "    ])\n",
    "\n",
    "@app.callback(\n",
    "    Output(\"target\", \"children\"),\n",
    "    [Input(\"table\", \"selected_rows\")])\n",
    "def update(selected_rows):\n",
    "    row_num = 0 if not selected_rows else selected_rows[0] # selected_rows 为 列表\n",
    "    pokemon_data = df.iloc[row_num].to_list()\n",
    "    name = pokemon_data[0]\n",
    "    tags = pokemon_data[1:3]\n",
    "    abls = pokemon_data[4:-2]\n",
    "    return jumbo_item(name, tags, abls)\n",
    "\n",
    "app.run_server(debug=True)"
   ]
  },
  {
   "source": [
    "## Part-10：实现个人理财应用的表格\n",
    "## Part-11：实现个人理财应用的可视化图表\n",
    "## Part-12：实现个人理财应用的年月视图切换\n",
    "## Part-13：实现个人理财应用的完整看板\n",
    "## Part-14：实现智能选股器的行业选择\n",
    "## Part-15：实现智能选股器的股票指标数据\n",
    "## Part-16：实现智能选股器的60日K折线图\n",
    "## Part-17：实现智能选股器的股票指标筛选器"
   ],
   "cell_type": "markdown",
   "metadata": {}
  },
  {
   "source": [
    "----"
   ],
   "cell_type": "markdown",
   "metadata": {}
  },
  {
   "cell_type": "code",
   "execution_count": 127,
   "metadata": {},
   "outputs": [],
   "source": [
    "# 生成假数据\n",
    "import numpy as np\n",
    "import pandas as pd"
   ]
  },
  {
   "cell_type": "code",
   "execution_count": 155,
   "metadata": {},
   "outputs": [],
   "source": [
    "year = pd.DataFrame({\n",
    "    '日期': pd.date_range('2019', freq='D', periods=365),\n",
    "    '生活': np.random.randint(0, 50, size=365),\n",
    "    '餐饮': np.random.randint(0, 100, size=365),\n",
    "    '出行': np.random.randint(0, 50, size=365),\n",
    "    '工作': np.random.randint(0, 100, size=365),\n",
    "    '其他': np.random.randint(0, 100, size=365)})"
   ]
  },
  {
   "cell_type": "code",
   "execution_count": 156,
   "metadata": {},
   "outputs": [
    {
     "output_type": "execute_result",
     "data": {
      "text/plain": [
       "          日期  生活  餐饮  出行  工作  其他\n",
       "0 2019-01-01  29  79  30  29   3\n",
       "1 2019-01-02   5  59  48  41  43\n",
       "2 2019-01-03  37  76  11  86  31\n",
       "3 2019-01-04  30  75  42  81  47\n",
       "4 2019-01-05  30  58  17  80  45"
      ],
      "text/html": "<div>\n<style scoped>\n    .dataframe tbody tr th:only-of-type {\n        vertical-align: middle;\n    }\n\n    .dataframe tbody tr th {\n        vertical-align: top;\n    }\n\n    .dataframe thead th {\n        text-align: right;\n    }\n</style>\n<table border=\"1\" class=\"dataframe\">\n  <thead>\n    <tr style=\"text-align: right;\">\n      <th></th>\n      <th>日期</th>\n      <th>生活</th>\n      <th>餐饮</th>\n      <th>出行</th>\n      <th>工作</th>\n      <th>其他</th>\n    </tr>\n  </thead>\n  <tbody>\n    <tr>\n      <th>0</th>\n      <td>2019-01-01</td>\n      <td>29</td>\n      <td>79</td>\n      <td>30</td>\n      <td>29</td>\n      <td>3</td>\n    </tr>\n    <tr>\n      <th>1</th>\n      <td>2019-01-02</td>\n      <td>5</td>\n      <td>59</td>\n      <td>48</td>\n      <td>41</td>\n      <td>43</td>\n    </tr>\n    <tr>\n      <th>2</th>\n      <td>2019-01-03</td>\n      <td>37</td>\n      <td>76</td>\n      <td>11</td>\n      <td>86</td>\n      <td>31</td>\n    </tr>\n    <tr>\n      <th>3</th>\n      <td>2019-01-04</td>\n      <td>30</td>\n      <td>75</td>\n      <td>42</td>\n      <td>81</td>\n      <td>47</td>\n    </tr>\n    <tr>\n      <th>4</th>\n      <td>2019-01-05</td>\n      <td>30</td>\n      <td>58</td>\n      <td>17</td>\n      <td>80</td>\n      <td>45</td>\n    </tr>\n  </tbody>\n</table>\n</div>"
     },
     "metadata": {},
     "execution_count": 156
    }
   ],
   "source": [
    "year.head()"
   ]
  },
  {
   "cell_type": "code",
   "execution_count": 157,
   "metadata": {},
   "outputs": [
    {
     "output_type": "execute_result",
     "data": {
      "text/plain": [
       "            生活  餐饮  出行  工作  其他\n",
       "日期                            \n",
       "2019-01-01  29  79  30  29   3\n",
       "2019-01-02   5  59  48  41  43\n",
       "2019-01-03  37  76  11  86  31\n",
       "2019-01-04  30  75  42  81  47\n",
       "2019-01-05  30  58  17  80  45"
      ],
      "text/html": "<div>\n<style scoped>\n    .dataframe tbody tr th:only-of-type {\n        vertical-align: middle;\n    }\n\n    .dataframe tbody tr th {\n        vertical-align: top;\n    }\n\n    .dataframe thead th {\n        text-align: right;\n    }\n</style>\n<table border=\"1\" class=\"dataframe\">\n  <thead>\n    <tr style=\"text-align: right;\">\n      <th></th>\n      <th>生活</th>\n      <th>餐饮</th>\n      <th>出行</th>\n      <th>工作</th>\n      <th>其他</th>\n    </tr>\n    <tr>\n      <th>日期</th>\n      <th></th>\n      <th></th>\n      <th></th>\n      <th></th>\n      <th></th>\n    </tr>\n  </thead>\n  <tbody>\n    <tr>\n      <th>2019-01-01</th>\n      <td>29</td>\n      <td>79</td>\n      <td>30</td>\n      <td>29</td>\n      <td>3</td>\n    </tr>\n    <tr>\n      <th>2019-01-02</th>\n      <td>5</td>\n      <td>59</td>\n      <td>48</td>\n      <td>41</td>\n      <td>43</td>\n    </tr>\n    <tr>\n      <th>2019-01-03</th>\n      <td>37</td>\n      <td>76</td>\n      <td>11</td>\n      <td>86</td>\n      <td>31</td>\n    </tr>\n    <tr>\n      <th>2019-01-04</th>\n      <td>30</td>\n      <td>75</td>\n      <td>42</td>\n      <td>81</td>\n      <td>47</td>\n    </tr>\n    <tr>\n      <th>2019-01-05</th>\n      <td>30</td>\n      <td>58</td>\n      <td>17</td>\n      <td>80</td>\n      <td>45</td>\n    </tr>\n  </tbody>\n</table>\n</div>"
     },
     "metadata": {},
     "execution_count": 157
    }
   ],
   "source": [
    "year = year.set_index('日期')\n",
    "year.head()"
   ]
  },
  {
   "cell_type": "code",
   "execution_count": 160,
   "metadata": {},
   "outputs": [],
   "source": [
    "for i in range(1, 13, 1):\n",
    "    year[f'2019-{i}'].to_excel(f'../Part-10/data/{i}月账单.xlsx', encoding='utf-8-sig')"
   ]
  },
  {
   "cell_type": "code",
   "execution_count": null,
   "metadata": {},
   "outputs": [],
   "source": []
  }
 ]
}